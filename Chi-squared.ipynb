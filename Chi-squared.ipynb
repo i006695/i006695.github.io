{
 "cells": [
  {
   "cell_type": "code",
   "execution_count": 2,
   "metadata": {
    "collapsed": false,
    "slideshow": {
     "slide_type": "slide"
    }
   },
   "outputs": [
    {
     "data": {
      "text/html": [
       "<table>\n",
       "<tbody>\n",
       "\t<tr><td>10</td><td>20</td></tr>\n",
       "\t<tr><td>35</td><td>45</td></tr>\n",
       "</tbody>\n",
       "</table>\n"
      ],
      "text/latex": [
       "\\begin{tabular}{ll}\n",
       "\t 10 & 20\\\\\n",
       "\t 35 & 45\\\\\n",
       "\\end{tabular}\n"
      ],
      "text/markdown": [
       "1. 10\n",
       "2. 35\n",
       "3. 20\n",
       "4. 45\n",
       "\n",
       "\n"
      ],
      "text/plain": [
       "     [,1] [,2]\n",
       "[1,]   10   20\n",
       "[2,]   35   45"
      ]
     },
     "execution_count": 2,
     "metadata": {},
     "output_type": "execute_result"
    },
    {
     "data": {
      "text/html": [
       "<table>\n",
       "<tbody>\n",
       "\t<tr><td>1000</td><td>2000</td></tr>\n",
       "\t<tr><td>3500</td><td>4500</td></tr>\n",
       "</tbody>\n",
       "</table>\n"
      ],
      "text/latex": [
       "\\begin{tabular}{ll}\n",
       "\t 1000 & 2000\\\\\n",
       "\t 3500 & 4500\\\\\n",
       "\\end{tabular}\n"
      ],
      "text/markdown": [
       "1. 1000\n",
       "2. 3500\n",
       "3. 2000\n",
       "4. 4500\n",
       "\n",
       "\n"
      ],
      "text/plain": [
       "     [,1] [,2]\n",
       "[1,] 1000 2000\n",
       "[2,] 3500 4500"
      ]
     },
     "execution_count": 2,
     "metadata": {},
     "output_type": "execute_result"
    }
   ],
   "source": [
    "#同じ比率でサンプル数が100倍違う2×2のクロス表\n",
    "x <- matrix(1:4, 2,2)\n",
    "x[1,1]<-10\n",
    "x[1,2]<-20\n",
    "x[2,1]<-35\n",
    "x[2,2]<-45\n",
    "x\n",
    "y<- matrix(1:4, 2,2)\n",
    "y[1,1]<-1000\n",
    "y[1,2]<-2000\n",
    "y[2,1]<-3500\n",
    "y[2,2]<-4500\n",
    "y"
   ]
  },
  {
   "cell_type": "code",
   "execution_count": 3,
   "metadata": {
    "collapsed": false,
    "slideshow": {
     "slide_type": "subslide"
    }
   },
   "outputs": [
    {
     "data": {
      "text/plain": [
       "\n",
       "\tPearson's Chi-squared test\n",
       "\n",
       "data:  x\n",
       "X-squared = 0.97934, df = 1, p-value = 0.3224\n"
      ]
     },
     "execution_count": 3,
     "metadata": {},
     "output_type": "execute_result"
    },
    {
     "data": {
      "text/plain": [
       "\n",
       "\tPearson's Chi-squared test\n",
       "\n",
       "data:  y\n",
       "X-squared = 97.934, df = 1, p-value < 2.2e-16\n"
      ]
     },
     "execution_count": 3,
     "metadata": {},
     "output_type": "execute_result"
    }
   ],
   "source": [
    "#χ-squared 値\n",
    "chisq.test(x, correct = FALSE)\n",
    "chisq.test(y, correct = FALSE)"
   ]
  }
 ],
 "metadata": {
  "celltoolbar": "Slideshow",
  "kernelspec": {
   "display_name": "R",
   "language": "R",
   "name": "ir"
  },
  "language_info": {
   "codemirror_mode": "r",
   "file_extension": ".r",
   "mimetype": "text/x-r-source",
   "name": "R",
   "pygments_lexer": "r",
   "version": "3.2.3"
  }
 },
 "nbformat": 4,
 "nbformat_minor": 0
}
